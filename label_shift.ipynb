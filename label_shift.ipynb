{
 "cells": [
  {
   "cell_type": "code",
   "execution_count": 1,
   "metadata": {},
   "outputs": [],
   "source": [
    "import numpy as np\n",
    "from scipy.stats import expon\n",
    "import matplotlib.pyplot as plt\n",
    "import tensorflow as tf\n",
    "import tensorflow_datasets as tfds"
   ]
  },
  {
   "cell_type": "code",
   "execution_count": 2,
   "metadata": {},
   "outputs": [],
   "source": [
    "LEARNING_RATE = 0.01\n",
    "MOMENTUM = 0.9\n",
    "BATCH_SIZE = 32\n",
    "NUM_EPOCHS = 10"
   ]
  },
  {
   "cell_type": "code",
   "execution_count": 3,
   "metadata": {},
   "outputs": [],
   "source": [
    "class LogisticRegression(tf.keras.Model):\n",
    "    def __init__(self, n_classes, l2_lambda=0.0):\n",
    "        super().__init__()\n",
    "        self.dense = tf.keras.layers.Dense(\n",
    "            n_classes,\n",
    "            kernel_initializer=tf.keras.initializers.RandomNormal(),\n",
    "            kernel_regularizer=tf.keras.regularizers.l2(l2_lambda)\n",
    "        )\n",
    "\n",
    "    def call(self, inputs, training=None):\n",
    "        x = self.dense(inputs)\n",
    "        x = tf.nn.softmax(x)\n",
    "        return x"
   ]
  },
  {
   "cell_type": "code",
   "execution_count": 4,
   "metadata": {},
   "outputs": [],
   "source": [
    "def preprocess(example):\n",
    "    return tf.reshape(example['image']/255, [-1]), example['label']\n",
    "\n",
    "train = tfds.load('mnist', split='train').map(preprocess).shuffle(1024).batch(BATCH_SIZE)\n",
    "test = tfds.load('mnist', split='test').map(preprocess).batch(BATCH_SIZE)"
   ]
  },
  {
   "cell_type": "code",
   "execution_count": 5,
   "metadata": {},
   "outputs": [],
   "source": [
    "def get_train_step():\n",
    "    @tf.function\n",
    "    def train_step(model, inputs, labels, criterion, optimizer, metrics):\n",
    "        with tf.GradientTape() as tape:\n",
    "            outputs = model(inputs, training=True)\n",
    "            loss = criterion(labels, outputs) + tf.reduce_sum(model.losses)\n",
    "        gradients = tape.gradient(loss, model.trainable_variables)\n",
    "        optimizer.apply_gradients(zip(gradients, model.trainable_variables))\n",
    "        metrics['train_loss'].update_state(loss)\n",
    "        metrics['train_accuracy'].update_state(labels, outputs)\n",
    "    return train_step\n",
    "\n",
    "def get_test_step():\n",
    "    @tf.function\n",
    "    def test_step(model, inputs, labels, criterion, metrics):\n",
    "        outputs = model(inputs, training=False)\n",
    "        loss = criterion(labels, outputs) + tf.reduce_sum(model.losses)\n",
    "        metrics['test_loss'].update_state(loss)\n",
    "        metrics['test_accuracy'].update_state(labels, outputs)\n",
    "    return test_step\n",
    "\n",
    "metrics = {\n",
    "    'train_loss': tf.keras.metrics.Mean(name='train_loss'),\n",
    "    'train_accuracy': tf.keras.metrics.SparseCategoricalAccuracy(name='train_accuracy'),\n",
    "    'test_loss': tf.keras.metrics.Mean(name='test_loss'),\n",
    "    'test_accuracy': tf.keras.metrics.SparseCategoricalAccuracy(name='test_accuracy'),\n",
    "}"
   ]
  },
  {
   "cell_type": "markdown",
   "metadata": {},
   "source": [
    "# Baseline MNIST with underfitting Logistic Regression"
   ]
  },
  {
   "cell_type": "code",
   "execution_count": 6,
   "metadata": {},
   "outputs": [
    {
     "name": "stdout",
     "output_type": "stream",
     "text": [
      "Epoch 0: Train Loss=0.4194890558719635, Train Accuracy=0.8835999965667725,\n",
      "         Test Loss=0.31226059794425964, Test Accuracy=0.9132999777793884\n",
      "Epoch 1: Train Loss=0.3140457570552826, Train Accuracy=0.9113166928291321,\n",
      "         Test Loss=0.2895925045013428, Test Accuracy=0.9204000234603882\n",
      "Epoch 2: Train Loss=0.29759711027145386, Train Accuracy=0.9161499738693237,\n",
      "         Test Loss=0.2828733026981354, Test Accuracy=0.9196000099182129\n",
      "Epoch 3: Train Loss=0.288061261177063, Train Accuracy=0.9191833138465881,\n",
      "         Test Loss=0.2840452194213867, Test Accuracy=0.9204000234603882\n",
      "Epoch 4: Train Loss=0.2821924090385437, Train Accuracy=0.9213666915893555,\n",
      "         Test Loss=0.2799644470214844, Test Accuracy=0.9218999743461609\n",
      "Epoch 5: Train Loss=0.27754512429237366, Train Accuracy=0.9228666424751282,\n",
      "         Test Loss=0.2756660282611847, Test Accuracy=0.9211999773979187\n",
      "Epoch 6: Train Loss=0.27452296018600464, Train Accuracy=0.9230666756629944,\n",
      "         Test Loss=0.2746399939060211, Test Accuracy=0.921500027179718\n",
      "Epoch 7: Train Loss=0.2717038691043854, Train Accuracy=0.9237499833106995,\n",
      "         Test Loss=0.2726248502731323, Test Accuracy=0.9230999946594238\n",
      "Epoch 8: Train Loss=0.26934516429901123, Train Accuracy=0.9245833158493042,\n",
      "         Test Loss=0.27398189902305603, Test Accuracy=0.92330002784729\n",
      "Epoch 9: Train Loss=0.26755446195602417, Train Accuracy=0.9250166416168213,\n",
      "         Test Loss=0.2760459780693054, Test Accuracy=0.9200999736785889\n"
     ]
    },
    {
     "data": {
      "text/plain": [
       "[<matplotlib.lines.Line2D at 0x7f8f90fa3cd0>]"
      ]
     },
     "execution_count": 6,
     "metadata": {},
     "output_type": "execute_result"
    },
    {
     "data": {
      "image/png": "[encoded data removed]",
      "text/plain": [
       "<Figure size 432x288 with 1 Axes>"
      ]
     },
     "metadata": {
      "needs_background": "light"
     },
     "output_type": "display_data"
    }
   ],
   "source": [
    "model = LogisticRegression(10)\n",
    "criterion = tf.keras.losses.SparseCategoricalCrossentropy()\n",
    "optimizer = tf.keras.optimizers.SGD(LEARNING_RATE, MOMENTUM)\n",
    "\n",
    "train_step = get_train_step()\n",
    "test_step = get_test_step()\n",
    "\n",
    "train_loss = []\n",
    "train_accuracy = []\n",
    "test_loss = []\n",
    "test_accuracy = []\n",
    "\n",
    "for epoch in range(NUM_EPOCHS):\n",
    "    \n",
    "    for metric in metrics:\n",
    "        metrics[metric].reset_states()\n",
    "    \n",
    "    for inputs, labels in train:\n",
    "        train_step(model, inputs, labels, criterion, optimizer, metrics)\n",
    "        \n",
    "    for inputs, labels in test:\n",
    "        test_step(model, inputs, labels, criterion, metrics)\n",
    "    \n",
    "    train_loss.append(metrics['train_loss'].result())\n",
    "    train_accuracy.append(metrics['train_accuracy'].result())\n",
    "    test_loss.append(metrics['test_loss'].result())\n",
    "    test_accuracy.append(metrics['test_accuracy'].result())\n",
    "    \n",
    "    print(\n",
    "        f'Epoch {epoch}: Train Loss={train_loss[-1]}, Train Accuracy={train_accuracy[-1]},\\n \\\n",
    "        Test Loss={test_loss[-1]}, Test Accuracy={test_accuracy[-1]}'\n",
    "    )\n",
    "    \n",
    "plt.plot(train_accuracy)\n",
    "plt.plot(test_accuracy)"
   ]
  },
  {
   "cell_type": "code",
   "execution_count": 7,
   "metadata": {},
   "outputs": [],
   "source": [
    "def resample_dataset(dataset, density, training=False):\n",
    "    all_inputs = []\n",
    "    all_labels = []\n",
    "    resampled_inputs = []\n",
    "    resampled_labels = []\n",
    "    \n",
    "    for inputs, labels in dataset:\n",
    "        all_inputs.append(inputs)\n",
    "        all_labels.append(labels)\n",
    "        \n",
    "    all_inputs = np.vstack(all_inputs)\n",
    "    all_labels = np.hstack(all_labels)\n",
    "    \n",
    "    for digit, p_digit in enumerate(density):\n",
    "        print(f'{digit}: {p_digit}')\n",
    "        index = np.where(all_labels == digit)[0]\n",
    "        index = index[:int(len(index)*p_digit)]\n",
    "        resampled_inputs.append(all_inputs[index])\n",
    "        resampled_labels.append(all_labels[index])\n",
    "        \n",
    "    dataset = tf.data.Dataset.from_tensor_slices(\n",
    "        (np.vstack(resampled_inputs), np.hstack(resampled_labels))\n",
    "    )\n",
    "\n",
    "    if training:\n",
    "        return dataset.shuffle(1024).batch(BATCH_SIZE)\n",
    "    else:\n",
    "        return dataset.batch(BATCH_SIZE)\n",
    "\n",
    "density, _ = np.histogram(expon.rvs(scale=1/0.5, size=1000), bins=range(11), density=True)"
   ]
  },
  {
   "cell_type": "markdown",
   "metadata": {},
   "source": [
    "# Exponentially resampled MNIST with stationary train/test"
   ]
  },
  {
   "cell_type": "code",
   "execution_count": 8,
   "metadata": {},
   "outputs": [
    {
     "name": "stdout",
     "output_type": "stream",
     "text": [
      "0: 0.2462159434914228\n",
      "1: 0.09384460141271443\n",
      "2: 0.022199798183652877\n",
      "3: 0.13319878910191726\n",
      "4: 0.03128153380423814\n",
      "5: 0.04843592330978809\n",
      "6: 0.4036326942482341\n",
      "7: 0.004036326942482341\n",
      "8: 0.013118062563067608\n",
      "9: 0.004036326942482341\n",
      "0: 0.2462159434914228\n",
      "1: 0.09384460141271443\n",
      "2: 0.022199798183652877\n",
      "3: 0.13319878910191726\n",
      "4: 0.03128153380423814\n",
      "5: 0.04843592330978809\n",
      "6: 0.4036326942482341\n",
      "7: 0.004036326942482341\n",
      "8: 0.013118062563067608\n",
      "9: 0.004036326942482341\n",
      "Epoch 0: Train Loss=0.6033169627189636, Train Accuracy=0.8498749136924744,\n",
      "         Test Loss=0.48994550108909607, Test Accuracy=0.8380855321884155\n",
      "Epoch 1: Train Loss=0.2600463032722473, Train Accuracy=0.925437867641449,\n",
      "         Test Loss=0.343343049287796, Test Accuracy=0.8981670141220093\n",
      "Epoch 2: Train Loss=0.21239349246025085, Train Accuracy=0.9371142387390137,\n",
      "         Test Loss=0.3277154564857483, Test Accuracy=0.9002036452293396\n",
      "Epoch 3: Train Loss=0.18405140936374664, Train Accuracy=0.9454545378684998,\n",
      "         Test Loss=0.3188959062099457, Test Accuracy=0.9032586812973022\n",
      "Epoch 4: Train Loss=0.17672432959079742, Train Accuracy=0.9459549784660339,\n",
      "         Test Loss=0.279941201210022, Test Accuracy=0.9103869795799255\n",
      "Epoch 5: Train Loss=0.16485650837421417, Train Accuracy=0.9526271820068359,\n",
      "         Test Loss=0.26429295539855957, Test Accuracy=0.914460301399231\n",
      "Epoch 6: Train Loss=0.15851877629756927, Train Accuracy=0.9524604082107544,\n",
      "         Test Loss=0.2503589689731598, Test Accuracy=0.9205702543258667\n",
      "Epoch 7: Train Loss=0.1492735892534256, Train Accuracy=0.9572977423667908,\n",
      "         Test Loss=0.2312091886997223, Test Accuracy=0.9256619215011597\n",
      "Epoch 8: Train Loss=0.14478448033332825, Train Accuracy=0.956630527973175,\n",
      "         Test Loss=0.23899675905704498, Test Accuracy=0.9205702543258667\n",
      "Epoch 9: Train Loss=0.1403575837612152, Train Accuracy=0.9559633135795593,\n",
      "         Test Loss=0.22239165008068085, Test Accuracy=0.9246435761451721\n"
     ]
    },
    {
     "data": {
      "text/plain": [
       "[<matplotlib.lines.Line2D at 0x7f8fa1487090>]"
      ]
     },
     "execution_count": 8,
     "metadata": {},
     "output_type": "execute_result"
    },
    {
     "data": {
      "image/png": "[encoded data removed]",
      "text/plain": [
       "<Figure size 432x288 with 1 Axes>"
      ]
     },
     "metadata": {
      "needs_background": "light"
     },
     "output_type": "display_data"
    }
   ],
   "source": [
    "model = LogisticRegression(10)\n",
    "criterion = tf.keras.losses.SparseCategoricalCrossentropy()\n",
    "optimizer = tf.keras.optimizers.SGD(LEARNING_RATE, MOMENTUM)\n",
    "\n",
    "train_step = get_train_step()\n",
    "test_step = get_test_step()\n",
    "\n",
    "train_density = np.random.permutation(density)\n",
    "resampled_train = resample_dataset(train, train_density, training=True)\n",
    "resampled_test = resample_dataset(test, train_density, training=False)\n",
    "\n",
    "train_loss = []\n",
    "train_accuracy = []\n",
    "test_loss = []\n",
    "test_accuracy = []\n",
    "\n",
    "for epoch in range(NUM_EPOCHS):\n",
    "    \n",
    "    for metric in metrics:\n",
    "        metrics[metric].reset_states()\n",
    "    \n",
    "    for inputs, labels in resampled_train:\n",
    "        train_step(model, inputs, labels, criterion, optimizer, metrics)\n",
    "        \n",
    "    for inputs, labels in resampled_test:\n",
    "        test_step(model, inputs, labels, criterion, metrics)\n",
    "    \n",
    "    train_loss.append(metrics['train_loss'].result())\n",
    "    train_accuracy.append(metrics['train_accuracy'].result())\n",
    "    test_loss.append(metrics['test_loss'].result())\n",
    "    test_accuracy.append(metrics['test_accuracy'].result())\n",
    "    \n",
    "    print(\n",
    "        f'Epoch {epoch}: Train Loss={train_loss[-1]}, Train Accuracy={train_accuracy[-1]},\\n \\\n",
    "        Test Loss={test_loss[-1]}, Test Accuracy={test_accuracy[-1]}'\n",
    "    )\n",
    "    \n",
    "plt.plot(train_accuracy)\n",
    "plt.plot(test_accuracy)"
   ]
  },
  {
   "cell_type": "markdown",
   "metadata": {},
   "source": [
    "# Exponentially resampled MNIST with shifted train/test"
   ]
  },
  {
   "cell_type": "code",
   "execution_count": 9,
   "metadata": {},
   "outputs": [
    {
     "name": "stdout",
     "output_type": "stream",
     "text": [
      "0: 0.04843592330978809\n",
      "1: 0.03128153380423814\n",
      "2: 0.4036326942482341\n",
      "3: 0.09384460141271443\n",
      "4: 0.13319878910191726\n",
      "5: 0.004036326942482341\n",
      "6: 0.013118062563067608\n",
      "7: 0.022199798183652877\n",
      "8: 0.2462159434914228\n",
      "9: 0.004036326942482341\n",
      "0: 0.09384460141271443\n",
      "1: 0.013118062563067608\n",
      "2: 0.4036326942482341\n",
      "3: 0.13319878910191726\n",
      "4: 0.004036326942482341\n",
      "5: 0.04843592330978809\n",
      "6: 0.03128153380423814\n",
      "7: 0.2462159434914228\n",
      "8: 0.022199798183652877\n",
      "9: 0.004036326942482341\n",
      "Epoch 0: Train Loss=0.6699820756912231, Train Accuracy=0.8301981687545776,\n",
      "         Test Loss=1.121687412261963, Test Accuracy=0.6180555820465088\n",
      "Epoch 1: Train Loss=0.32160425186157227, Train Accuracy=0.9035941958427429,\n",
      "         Test Loss=0.7540347576141357, Test Accuracy=0.77182537317276\n",
      "Epoch 2: Train Loss=0.2668326199054718, Train Accuracy=0.9198858141899109,\n",
      "         Test Loss=0.7696735858917236, Test Accuracy=0.7658730149269104\n",
      "Epoch 3: Train Loss=0.24192039668560028, Train Accuracy=0.928787350654602,\n",
      "         Test Loss=0.74327552318573, Test Accuracy=0.7847222089767456\n",
      "Epoch 4: Train Loss=0.23259584605693817, Train Accuracy=0.9301310181617737,\n",
      "         Test Loss=0.6652677059173584, Test Accuracy=0.8045634627342224\n",
      "Epoch 5: Train Loss=0.20909352600574493, Train Accuracy=0.9368491768836975,\n",
      "         Test Loss=0.7181620001792908, Test Accuracy=0.7916666865348816\n",
      "Epoch 6: Train Loss=0.20528022944927216, Train Accuracy=0.9370171427726746,\n",
      "         Test Loss=0.6009079217910767, Test Accuracy=0.829365074634552\n",
      "Epoch 7: Train Loss=0.19592413306236267, Train Accuracy=0.9385287165641785,\n",
      "         Test Loss=0.6285263299942017, Test Accuracy=0.8154761791229248\n",
      "Epoch 8: Train Loss=0.17997603118419647, Train Accuracy=0.9459187388420105,\n",
      "         Test Loss=0.7006456255912781, Test Accuracy=0.7966269850730896\n",
      "Epoch 9: Train Loss=0.1764543056488037, Train Accuracy=0.9481021165847778,\n",
      "         Test Loss=0.693530261516571, Test Accuracy=0.7966269850730896\n"
     ]
    },
    {
     "data": {
      "text/plain": [
       "[<matplotlib.lines.Line2D at 0x7f8fa1626710>]"
      ]
     },
     "execution_count": 9,
     "metadata": {},
     "output_type": "execute_result"
    },
    {
     "data": {
      "image/png": "[encoded data removed]",
      "text/plain": [
       "<Figure size 432x288 with 1 Axes>"
      ]
     },
     "metadata": {
      "needs_background": "light"
     },
     "output_type": "display_data"
    }
   ],
   "source": [
    "model = LogisticRegression(10)\n",
    "criterion = tf.keras.losses.SparseCategoricalCrossentropy()\n",
    "optimizer = tf.keras.optimizers.SGD(LEARNING_RATE, MOMENTUM)\n",
    "\n",
    "train_step = get_train_step()\n",
    "test_step = get_test_step()\n",
    "\n",
    "train_density = np.random.permutation(density)\n",
    "test_density = np.random.permutation(density)\n",
    "resampled_train = resample_dataset(train, train_density, training=True)\n",
    "resampled_test = resample_dataset(test, test_density, training=False)\n",
    "\n",
    "train_loss = []\n",
    "train_accuracy = []\n",
    "test_loss = []\n",
    "test_accuracy = []\n",
    "\n",
    "\n",
    "for epoch in range(NUM_EPOCHS):\n",
    "    \n",
    "    for metric in metrics:\n",
    "        metrics[metric].reset_states()\n",
    "    \n",
    "    for inputs, labels in resampled_train:\n",
    "        train_step(model, inputs, labels, criterion, optimizer, metrics)\n",
    "        \n",
    "    for inputs, labels in resampled_test:\n",
    "        test_step(model, inputs, labels, criterion, metrics)\n",
    "    \n",
    "    train_loss.append(metrics['train_loss'].result())\n",
    "    train_accuracy.append(metrics['train_accuracy'].result())\n",
    "    test_loss.append(metrics['test_loss'].result())\n",
    "    test_accuracy.append(metrics['test_accuracy'].result())\n",
    "    \n",
    "    print(\n",
    "        f'Epoch {epoch}: Train Loss={train_loss[-1]}, Train Accuracy={train_accuracy[-1]},\\n \\\n",
    "        Test Loss={test_loss[-1]}, Test Accuracy={test_accuracy[-1]}'\n",
    "    )\n",
    "    \n",
    "plt.plot(train_accuracy)\n",
    "plt.plot(test_accuracy)"
   ]
  },
  {
   "cell_type": "code",
   "execution_count": 10,
   "metadata": {},
   "outputs": [],
   "source": [
    "def confusion_matrix(model, dataset):\n",
    "    all_labels = []\n",
    "    all_predictions = []\n",
    "\n",
    "    for inputs, labels in dataset:\n",
    "        outputs = model(inputs, training=False)\n",
    "        all_labels.append(labels)\n",
    "        all_predictions.append(tf.argmax(outputs, axis=1))\n",
    "    \n",
    "    return tf.math.confusion_matrix(\n",
    "        np.hstack(all_labels), np.hstack(all_predictions)\n",
    "    )"
   ]
  }
 ],
 "metadata": {
  "kernelspec": {
   "display_name": "Python 3",
   "language": "python",
   "name": "python3"
  },
  "language_info": {
   "codemirror_mode": {
    "name": "ipython",
    "version": 3
   },
   "file_extension": ".py",
   "mimetype": "text/x-python",
   "name": "python",
   "nbconvert_exporter": "python",
   "pygments_lexer": "ipython3",
   "version": "3.7.6"
  }
 },
 "nbformat": 4,
 "nbformat_minor": 4
}
